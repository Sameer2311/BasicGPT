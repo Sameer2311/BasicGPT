{
 "cells": [
  {
   "cell_type": "code",
   "execution_count": 2,
   "id": "d3c64edf-8d82-4738-ac47-b18a6c1917b8",
   "metadata": {},
   "outputs": [
    {
     "name": "stdout",
     "output_type": "stream",
     "text": [
      "Collecting backports.lzma\n",
      "  Downloading backports.lzma-0.0.14.tar.gz (47 kB)\n",
      "\u001b[2K     \u001b[38;2;114;156;31m━━━━━━━━━━━━━━━━━━━━━━━━━━━━━━━━━━━━━━━\u001b[0m \u001b[32m47.1/47.1 kB\u001b[0m \u001b[31m572.1 kB/s\u001b[0m eta \u001b[36m0:00:00\u001b[0mMB/s\u001b[0m eta \u001b[36m0:00:01\u001b[0m\n",
      "\u001b[?25h  Preparing metadata (setup.py) ... \u001b[?25ldone\n",
      "\u001b[?25hBuilding wheels for collected packages: backports.lzma\n",
      "  Building wheel for backports.lzma (setup.py) ... \u001b[?25ldone\n",
      "\u001b[?25h  Created wheel for backports.lzma: filename=backports.lzma-0.0.14-cp311-cp311-linux_x86_64.whl size=52155 sha256=9c5345d98614d1dc6c4e7d6b55ad466631f65d67be9e1fb49f3d4b7754a7814c\n",
      "  Stored in directory: /home/sm/.cache/pip/wheels/f9/07/22/2a7c08deadad1af9f30a77e1efa74ae78b322488b8014afd07\n",
      "Successfully built backports.lzma\n",
      "Installing collected packages: backports.lzma\n",
      "Successfully installed backports.lzma-0.0.14\n",
      "Requirement already satisfied: tqdm in ./llm/lib/python3.11/site-packages (4.66.1)\n"
     ]
    }
   ],
   "source": [
    "!pip install backports.lzma\n",
    "!pip install tqdm"
   ]
  },
  {
   "cell_type": "code",
   "execution_count": 3,
   "id": "2b7a40fe-dcac-4681-80ae-615930f3ebef",
   "metadata": {},
   "outputs": [],
   "source": [
    "import os\n",
    "import lzma\n",
    "from tqdm import tqdm"
   ]
  },
  {
   "cell_type": "code",
   "execution_count": 4,
   "id": "abe8fcd2-75d6-43b8-9415-5b750dede2c9",
   "metadata": {},
   "outputs": [],
   "source": [
    "def xz_files_in_dir(directory):\n",
    "    files=[]\n",
    "    for filename in os.listdir(directory):\n",
    "        if filename.endswith('.xz') and os.path.isfile(os.path.join(directory,filename)):\n",
    "            files.append(filename)\n",
    "    return files\n"
   ]
  },
  {
   "cell_type": "code",
   "execution_count": 6,
   "id": "bbb1e121-17fe-483d-ac86-76cc6dfac991",
   "metadata": {},
   "outputs": [
    {
     "name": "stderr",
     "output_type": "stream",
     "text": [
      "100%|█████████████████████████████████████| 18549/18549 [14:30<00:00, 21.31it/s]\n",
      "100%|███████████████████████████████████████| 2061/2061 [02:10<00:00, 15.77it/s]\n"
     ]
    }
   ],
   "source": [
    "folder_path='/home/sm/workspace/llm/openwebtext'\n",
    "output_file_train = \"output_train.txt\"\n",
    "output_file_val = \"output_val.txt\"\n",
    "vocab_file = \"vocab.txt\"\n",
    "\n",
    "files = xz_files_in_dir(folder_path)\n",
    "total_files = len(files)\n",
    "\n",
    "# Calculate the split indices\n",
    "split_index = int(total_files * 0.9) # 90% for training\n",
    "files_train = files[:split_index]\n",
    "files_val = files[split_index:]\n",
    "\n",
    "# Process the files for training and validation separately\n",
    "vocab = set()\n",
    "\n",
    "# Process the training files\n",
    "with open(output_file_train, \"w\", encoding=\"utf-8\") as outfile:\n",
    "    for filename in tqdm(files_train, total=len(files_train)):\n",
    "        file_path = os.path.join(folder_path, filename)\n",
    "        with lzma.open(file_path, \"rt\", encoding=\"utf-8\") as infile:\n",
    "            text = infile.read()\n",
    "            outfile.write(text)\n",
    "            characters = set(text)\n",
    "            vocab.update(characters)\n",
    "\n",
    "# Process the validation files\n",
    "with open(output_file_val, \"w\", encoding=\"utf-8\") as outfile:\n",
    "    for filename in tqdm(files_val, total=len(files_val)):\n",
    "        file_path = os.path.join(folder_path, filename)\n",
    "        with lzma.open(file_path, \"rt\", encoding=\"utf-8\") as infile:\n",
    "            text = infile.read()\n",
    "            outfile.write(text)\n",
    "            characters = set(text)\n",
    "            vocab.update(characters)\n",
    "\n",
    "# Write the vocabulary to vocab.txt\n",
    "with open(vocab_file, \"w\", encoding=\"utf-8\") as vfile:\n",
    "    for char in vocab:\n",
    "        vfile.write(char + '\\n')"
   ]
  }
 ],
 "metadata": {
  "kernelspec": {
   "display_name": "llm",
   "language": "python",
   "name": "llm"
  },
  "language_info": {
   "codemirror_mode": {
    "name": "ipython",
    "version": 3
   },
   "file_extension": ".py",
   "mimetype": "text/x-python",
   "name": "python",
   "nbconvert_exporter": "python",
   "pygments_lexer": "ipython3",
   "version": "3.11.4"
  }
 },
 "nbformat": 4,
 "nbformat_minor": 5
}
